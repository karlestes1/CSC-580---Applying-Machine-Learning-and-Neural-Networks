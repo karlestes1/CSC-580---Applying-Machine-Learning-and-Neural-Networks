{
 "cells": [
  {
   "cell_type": "markdown",
   "metadata": {},
   "source": [
    "## CSC 580: Critical Thinking 2 - Predicting Future Sales\n",
    "In a nutshell, *sales_data_test.csv* and *sales_data_test.csv* contain data that will be used to train a neural network to predict how much money can be expected form the future sale of new video games. The .csv files were retrieved from one of [Toni Esteves repos](https://github.com/toniesteves/adam-geitgey-building-deep-learning-keras/tree/master/03). \n",
    "\n",
    "The columns in the data are defined as follows:\n",
    "- critic_rating : an average rating out of five stars\n",
    "- is_action : tells us if this was an action game\n",
    "- is_exclusive_to_us : tells us if we have an exclusiv deal to sell this game\n",
    "- is_portable : tells us if this game runs on a handheld video game system\n",
    "- is_role_playing : tells us if this is a role-playing game\n",
    "- is_sequel : tells us if this game was a sequel to an earlier video game and part of an ongoing series\n",
    "- is_sports : tells us if this was a sports game\n",
    "- suitable_for_kids : tells us if this game is appropriate for all ages\n",
    "- total_earning : tells us how much money the store has earned in total from selling the game to all customers\n",
    "- unit_price : tells us for how much a single copy of the game retailed"
   ]
  },
  {
   "cell_type": "code",
   "execution_count": null,
   "metadata": {},
   "outputs": [],
   "source": [
    "import pandas as pd\n",
    "import sklearn\n",
    "import tensorflow as tf\n",
    "import numpy as np"
   ]
  }
 ],
 "metadata": {
  "interpreter": {
   "hash": "393fcab780e87c738780ceeb980b543ebdfd57cc9b80e4ffd28fcf595b13429f"
  },
  "kernelspec": {
   "display_name": "Python 3.8.10 ('CSUG')",
   "language": "python",
   "name": "python3"
  },
  "language_info": {
   "name": "python",
   "version": "3.8.10"
  },
  "orig_nbformat": 4
 },
 "nbformat": 4,
 "nbformat_minor": 2
}
