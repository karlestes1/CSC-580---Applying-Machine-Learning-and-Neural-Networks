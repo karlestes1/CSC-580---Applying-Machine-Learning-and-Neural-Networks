{
 "cells": [
  {
   "cell_type": "markdown",
   "metadata": {},
   "source": [
    "## CSC 580: Critical Thinking 2 - Predicting Future Sales\n",
    "In a nutshell, *sales_data_test.csv* and *sales_data_test.csv* contain data that will be used to train a neural network to predict how much money can be expected form the future sale of new video games. The .csv files were retrieved from one of [Toni Esteves repos](https://github.com/toniesteves/adam-geitgey-building-deep-learning-keras/tree/master/03). \n",
    "\n",
    "The columns in the data are defined as follows:\n",
    "- critic_rating : an average rating out of five stars\n",
    "- is_action : tells us if this was an action game\n",
    "- is_exclusive_to_us : tells us if we have an exclusiv deal to sell this game\n",
    "- is_portable : tells us if this game runs on a handheld video game system\n",
    "- is_role_playing : tells us if this is a role-playing game\n",
    "- is_sequel : tells us if this game was a sequel to an earlier video game and part of an ongoing series\n",
    "- is_sports : tells us if this was a sports game\n",
    "- suitable_for_kids : tells us if this game is appropriate for all ages\n",
    "- total_earning : tells us how much money the store has earned in total from selling the game to all customers\n",
    "- unit_price : tells us for how much a single copy of the game retailed"
   ]
  },
  {
   "cell_type": "code",
   "execution_count": 1,
   "metadata": {},
   "outputs": [],
   "source": [
    "import pandas as pd\n",
    "from sklearn.preprocessing import MinMaxScaler\n",
    "from sklearn.model_selection import train_test_split\n",
    "import tensorflow as tf\n",
    "import keras_tuner as kt\n",
    "from keras.models import Sequential\n",
    "from keras import layers \n",
    "from keras import activations\n",
    "from keras import losses"
   ]
  },
  {
   "cell_type": "markdown",
   "metadata": {},
   "source": [
    "#### Step 1: Prepare the Dataset\n",
    "The numerical data needs to be scaled for better network training"
   ]
  },
  {
   "cell_type": "code",
   "execution_count": 2,
   "metadata": {},
   "outputs": [
    {
     "name": "stdout",
     "output_type": "stream",
     "text": [
      "Note: total_earnings values were scaled by multiplying by 0.0000042367 and adding -0.153415\n"
     ]
    }
   ],
   "source": [
    "# Load the training and testing data\n",
    "train_data = pd.read_csv(\"sales_data_training.csv\", dtype=float)\n",
    "test_data = pd.read_csv(\"sales_data_test.csv\", dtype = float)\n",
    "\n",
    "# Scale the data using sklearn\n",
    "scaler = MinMaxScaler(feature_range=(0,1))\n",
    "train_data_scaled = scaler.fit_transform(train_data)\n",
    "test_data_scaled = scaler.fit_transform(test_data)\n",
    "\n",
    "# Print out adjustment\n",
    "print(\"Note: total_earnings values were scaled by multiplying by {:.10f} and adding {:.6f}\".format(scaler.scale_[8], scaler.min_[8]))\n",
    "\n",
    "# Create new DataFrames\n",
    "df_train_scaled = pd.DataFrame(train_data_scaled, columns=train_data.columns.values)\n",
    "df_test_scaled = pd.DataFrame(test_data_scaled, columns=test_data.columns.values)\n",
    "\n",
    "# Save scaled data\n",
    "df_train_scaled.to_csv(\"sales_data_training_scaled.csv\", index=False)\n",
    "df_test_scaled.to_csv(\"sales_data_testing_scaled.csv\", index=False)\n"
   ]
  },
  {
   "cell_type": "markdown",
   "metadata": {},
   "source": [
    "#### Part 2: Coding the Network"
   ]
  },
  {
   "cell_type": "code",
   "execution_count": 3,
   "metadata": {},
   "outputs": [],
   "source": [
    "# Load the training data\n",
    "training_data_df = pd.read_csv(\"sales_data_training_scaled.csv\")\n",
    "\n",
    "X = training_data_df.drop('total_earnings', axis=1).values\n",
    "Y = training_data_df[['total_earnings']].values\n",
    "\n",
    "# Splitting some off for validation set for HPO\n",
    "X_TRAIN, X_VAL, Y_TRAIN, Y_VAL = train_test_split(X, Y, train_size=0.8)"
   ]
  },
  {
   "cell_type": "code",
   "execution_count": 4,
   "metadata": {},
   "outputs": [],
   "source": [
    "# Model definition\n",
    "def build_model(hp):\n",
    "    model = Sequential()\n",
    "    model.add(layers.Input((9,))) # Input\n",
    "\n",
    "    # Tune the number of layers\n",
    "    for i in range(hp.Int(\"num_layers\", 1, 3)):\n",
    "        model.add(\n",
    "            layers.Dense(\n",
    "                # Tune number of units separately\n",
    "                units=hp.Int(\"units_{i}\", min_value=32, max_value=512, step=32),\n",
    "                activation=activations.relu\n",
    "            )\n",
    "        )\n",
    "    model.add(layers.Dense(1, activation=activations.linear)) # Output\n",
    "\n",
    "    # Tune the learning rate\n",
    "    learning_rate = hp.Float(\"lr\", min_value = 1e-4, max_value=1e-2, sampling=\"log\")\n",
    "    model.compile(\n",
    "        optimizer=tf.keras.optimizers.Adam(learning_rate=learning_rate), \n",
    "        loss=\"mse\", \n",
    "        metrics=[tf.keras.metrics.MeanSquaredError(), tf.keras.metrics.RootMeanSquaredError()])\n",
    "\n",
    "    return model"
   ]
  },
  {
   "cell_type": "code",
   "execution_count": 5,
   "metadata": {},
   "outputs": [
    {
     "name": "stdout",
     "output_type": "stream",
     "text": [
      "Search space summary\n",
      "Default search space size: 3\n",
      "num_layers (Int)\n",
      "{'default': None, 'conditions': [], 'min_value': 1, 'max_value': 3, 'step': 1, 'sampling': None}\n",
      "units_{i} (Int)\n",
      "{'default': None, 'conditions': [], 'min_value': 32, 'max_value': 512, 'step': 32, 'sampling': None}\n",
      "lr (Float)\n",
      "{'default': 0.0001, 'conditions': [], 'min_value': 0.0001, 'max_value': 0.01, 'step': None, 'sampling': 'log'}\n"
     ]
    },
    {
     "name": "stderr",
     "output_type": "stream",
     "text": [
      "2022-02-23 15:13:12.735598: I tensorflow/core/platform/cpu_feature_guard.cc:142] This TensorFlow binary is optimized with oneAPI Deep Neural Network Library (oneDNN) to use the following CPU instructions in performance-critical operations:  AVX2 AVX512F FMA\n",
      "To enable them in other operations, rebuild TensorFlow with the appropriate compiler flags.\n"
     ]
    }
   ],
   "source": [
    "# Tuning the model's hyperparameters\n",
    "tuner = kt.RandomSearch(\n",
    "    hypermodel=build_model,\n",
    "    objective=kt.Objective(\"val_root_mean_squared_error\", direction=\"min\"),\n",
    "    max_trials=10,\n",
    "    executions_per_trial=2,\n",
    "    overwrite=True,\n",
    "    directory=\"hpo\",\n",
    "    project_name=\"sales_predictions\"\n",
    ")\n",
    "\n",
    "# Summary of the search space\n",
    "tuner.search_space_summary()"
   ]
  },
  {
   "cell_type": "markdown",
   "metadata": {},
   "source": [
    "#### Part 3: Training the Network"
   ]
  },
  {
   "cell_type": "code",
   "execution_count": 6,
   "metadata": {},
   "outputs": [
    {
     "name": "stdout",
     "output_type": "stream",
     "text": [
      "Trial 10 Complete [00h 00m 03s]\n",
      "val_root_mean_squared_error: 0.013163530733436346\n",
      "\n",
      "Best val_root_mean_squared_error So Far: 0.005665629170835018\n",
      "Total elapsed time: 00h 00m 35s\n",
      "INFO:tensorflow:Oracle triggered exit\n"
     ]
    }
   ],
   "source": [
    "# Search for the best hyperparemeter configurations\n",
    "tuner.search(X_TRAIN, Y_TRAIN, epochs=10, batch_size=25, validation_data=(X_VAL, Y_VAL))"
   ]
  },
  {
   "cell_type": "code",
   "execution_count": 7,
   "metadata": {},
   "outputs": [
    {
     "name": "stdout",
     "output_type": "stream",
     "text": [
      "Results summary\n",
      "Results in hpo/sales_predictions\n",
      "Showing 10 best trials\n",
      "Objective(name='val_root_mean_squared_error', direction='min')\n",
      "Trial summary\n",
      "Hyperparameters:\n",
      "num_layers: 3\n",
      "units_{i}: 480\n",
      "lr: 0.0004542815732661726\n",
      "Score: 0.005665629170835018\n",
      "Trial summary\n",
      "Hyperparameters:\n",
      "num_layers: 3\n",
      "units_{i}: 480\n",
      "lr: 0.0006432059239436091\n",
      "Score: 0.006807776866480708\n",
      "Trial summary\n",
      "Hyperparameters:\n",
      "num_layers: 3\n",
      "units_{i}: 288\n",
      "lr: 0.0006382243288146399\n",
      "Score: 0.007407315541058779\n",
      "Trial summary\n",
      "Hyperparameters:\n",
      "num_layers: 2\n",
      "units_{i}: 384\n",
      "lr: 0.00602482242977811\n",
      "Score: 0.007965064141899347\n",
      "Trial summary\n",
      "Hyperparameters:\n",
      "num_layers: 2\n",
      "units_{i}: 128\n",
      "lr: 0.0034818688017796847\n",
      "Score: 0.008347525028511882\n",
      "Trial summary\n",
      "Hyperparameters:\n",
      "num_layers: 1\n",
      "units_{i}: 224\n",
      "lr: 0.0016046549825965487\n",
      "Score: 0.011732041370123625\n",
      "Trial summary\n",
      "Hyperparameters:\n",
      "num_layers: 2\n",
      "units_{i}: 224\n",
      "lr: 0.0002140821791690464\n",
      "Score: 0.013163530733436346\n",
      "Trial summary\n",
      "Hyperparameters:\n",
      "num_layers: 1\n",
      "units_{i}: 288\n",
      "lr: 0.0005258403226257029\n",
      "Score: 0.01824456173926592\n",
      "Trial summary\n",
      "Hyperparameters:\n",
      "num_layers: 1\n",
      "units_{i}: 32\n",
      "lr: 0.0030065152699530954\n",
      "Score: 0.027149150148034096\n",
      "Trial summary\n",
      "Hyperparameters:\n",
      "num_layers: 1\n",
      "units_{i}: 480\n",
      "lr: 0.00011454352275286551\n",
      "Score: 0.04226079769432545\n"
     ]
    }
   ],
   "source": [
    "tuner.results_summary()"
   ]
  },
  {
   "cell_type": "code",
   "execution_count": 8,
   "metadata": {},
   "outputs": [
    {
     "name": "stdout",
     "output_type": "stream",
     "text": [
      "Model: \"sequential\"\n",
      "_________________________________________________________________\n",
      "Layer (type)                 Output Shape              Param #   \n",
      "=================================================================\n",
      "dense (Dense)                (None, 480)               4800      \n",
      "_________________________________________________________________\n",
      "dense_1 (Dense)              (None, 480)               230880    \n",
      "_________________________________________________________________\n",
      "dense_2 (Dense)              (None, 480)               230880    \n",
      "_________________________________________________________________\n",
      "dense_3 (Dense)              (None, 1)                 481       \n",
      "=================================================================\n",
      "Total params: 467,041\n",
      "Trainable params: 467,041\n",
      "Non-trainable params: 0\n",
      "_________________________________________________________________\n"
     ]
    }
   ],
   "source": [
    "# Get the top 2 models\n",
    "models = tuner.get_best_models(num_models=2)\n",
    "best_model = models[0]\n",
    "\n",
    "best_model.build()\n",
    "best_model.summary()"
   ]
  },
  {
   "cell_type": "code",
   "execution_count": 9,
   "metadata": {},
   "outputs": [
    {
     "name": "stdout",
     "output_type": "stream",
     "text": [
      "Epoch 1/50\n",
      "10/10 - 0s - loss: 1.8791e-05 - mean_squared_error: 1.8791e-05 - root_mean_squared_error: 0.0043\n",
      "Epoch 2/50\n",
      "10/10 - 0s - loss: 1.6397e-05 - mean_squared_error: 1.6397e-05 - root_mean_squared_error: 0.0040\n",
      "Epoch 3/50\n",
      "10/10 - 0s - loss: 1.3992e-05 - mean_squared_error: 1.3992e-05 - root_mean_squared_error: 0.0037\n",
      "Epoch 4/50\n",
      "10/10 - 0s - loss: 1.2642e-05 - mean_squared_error: 1.2642e-05 - root_mean_squared_error: 0.0036\n",
      "Epoch 5/50\n",
      "10/10 - 0s - loss: 1.4944e-05 - mean_squared_error: 1.4944e-05 - root_mean_squared_error: 0.0039\n",
      "Epoch 6/50\n",
      "10/10 - 0s - loss: 1.5769e-05 - mean_squared_error: 1.5769e-05 - root_mean_squared_error: 0.0040\n",
      "Epoch 7/50\n",
      "10/10 - 0s - loss: 1.2750e-05 - mean_squared_error: 1.2750e-05 - root_mean_squared_error: 0.0036\n",
      "Epoch 8/50\n",
      "10/10 - 0s - loss: 1.1694e-05 - mean_squared_error: 1.1694e-05 - root_mean_squared_error: 0.0034\n",
      "Epoch 9/50\n",
      "10/10 - 0s - loss: 1.1211e-05 - mean_squared_error: 1.1211e-05 - root_mean_squared_error: 0.0033\n",
      "Epoch 10/50\n",
      "10/10 - 0s - loss: 1.0498e-05 - mean_squared_error: 1.0498e-05 - root_mean_squared_error: 0.0032\n",
      "Epoch 11/50\n",
      "10/10 - 0s - loss: 1.1534e-05 - mean_squared_error: 1.1534e-05 - root_mean_squared_error: 0.0034\n",
      "Epoch 12/50\n",
      "10/10 - 0s - loss: 1.0884e-05 - mean_squared_error: 1.0884e-05 - root_mean_squared_error: 0.0033\n",
      "Epoch 13/50\n",
      "10/10 - 0s - loss: 1.0525e-05 - mean_squared_error: 1.0525e-05 - root_mean_squared_error: 0.0032\n",
      "Epoch 14/50\n",
      "10/10 - 0s - loss: 1.0445e-05 - mean_squared_error: 1.0445e-05 - root_mean_squared_error: 0.0032\n",
      "Epoch 15/50\n",
      "10/10 - 0s - loss: 1.0855e-05 - mean_squared_error: 1.0855e-05 - root_mean_squared_error: 0.0033\n",
      "Epoch 16/50\n",
      "10/10 - 0s - loss: 1.4557e-05 - mean_squared_error: 1.4557e-05 - root_mean_squared_error: 0.0038\n",
      "Epoch 17/50\n",
      "10/10 - 0s - loss: 1.3378e-05 - mean_squared_error: 1.3378e-05 - root_mean_squared_error: 0.0037\n",
      "Epoch 18/50\n",
      "10/10 - 0s - loss: 1.2477e-05 - mean_squared_error: 1.2477e-05 - root_mean_squared_error: 0.0035\n",
      "Epoch 19/50\n",
      "10/10 - 0s - loss: 1.0873e-05 - mean_squared_error: 1.0873e-05 - root_mean_squared_error: 0.0033\n",
      "Epoch 20/50\n",
      "10/10 - 0s - loss: 1.0910e-05 - mean_squared_error: 1.0910e-05 - root_mean_squared_error: 0.0033\n",
      "Epoch 21/50\n",
      "10/10 - 0s - loss: 1.1142e-05 - mean_squared_error: 1.1142e-05 - root_mean_squared_error: 0.0033\n",
      "Epoch 22/50\n",
      "10/10 - 0s - loss: 1.0376e-05 - mean_squared_error: 1.0376e-05 - root_mean_squared_error: 0.0032\n",
      "Epoch 23/50\n",
      "10/10 - 0s - loss: 1.0256e-05 - mean_squared_error: 1.0256e-05 - root_mean_squared_error: 0.0032\n",
      "Epoch 24/50\n",
      "10/10 - 0s - loss: 9.7715e-06 - mean_squared_error: 9.7715e-06 - root_mean_squared_error: 0.0031\n",
      "Epoch 25/50\n",
      "10/10 - 0s - loss: 9.6562e-06 - mean_squared_error: 9.6562e-06 - root_mean_squared_error: 0.0031\n",
      "Epoch 26/50\n",
      "10/10 - 0s - loss: 1.0932e-05 - mean_squared_error: 1.0932e-05 - root_mean_squared_error: 0.0033\n",
      "Epoch 27/50\n",
      "10/10 - 0s - loss: 1.1794e-05 - mean_squared_error: 1.1794e-05 - root_mean_squared_error: 0.0034\n",
      "Epoch 28/50\n",
      "10/10 - 0s - loss: 1.0776e-05 - mean_squared_error: 1.0776e-05 - root_mean_squared_error: 0.0033\n",
      "Epoch 29/50\n",
      "10/10 - 0s - loss: 9.7905e-06 - mean_squared_error: 9.7905e-06 - root_mean_squared_error: 0.0031\n",
      "Epoch 30/50\n",
      "10/10 - 0s - loss: 1.0421e-05 - mean_squared_error: 1.0421e-05 - root_mean_squared_error: 0.0032\n",
      "Epoch 31/50\n",
      "10/10 - 0s - loss: 1.0767e-05 - mean_squared_error: 1.0767e-05 - root_mean_squared_error: 0.0033\n",
      "Epoch 32/50\n",
      "10/10 - 0s - loss: 1.1067e-05 - mean_squared_error: 1.1067e-05 - root_mean_squared_error: 0.0033\n",
      "Epoch 33/50\n",
      "10/10 - 0s - loss: 9.2747e-06 - mean_squared_error: 9.2747e-06 - root_mean_squared_error: 0.0030\n",
      "Epoch 34/50\n",
      "10/10 - 0s - loss: 1.0269e-05 - mean_squared_error: 1.0269e-05 - root_mean_squared_error: 0.0032\n",
      "Epoch 35/50\n",
      "10/10 - 0s - loss: 9.9793e-06 - mean_squared_error: 9.9793e-06 - root_mean_squared_error: 0.0032\n",
      "Epoch 36/50\n",
      "10/10 - 0s - loss: 1.2137e-05 - mean_squared_error: 1.2137e-05 - root_mean_squared_error: 0.0035\n",
      "Epoch 37/50\n",
      "10/10 - 0s - loss: 1.0064e-05 - mean_squared_error: 1.0064e-05 - root_mean_squared_error: 0.0032\n",
      "Epoch 38/50\n",
      "10/10 - 0s - loss: 9.1001e-06 - mean_squared_error: 9.1001e-06 - root_mean_squared_error: 0.0030\n",
      "Epoch 39/50\n",
      "10/10 - 0s - loss: 9.4840e-06 - mean_squared_error: 9.4840e-06 - root_mean_squared_error: 0.0031\n",
      "Epoch 40/50\n",
      "10/10 - 0s - loss: 9.3198e-06 - mean_squared_error: 9.3198e-06 - root_mean_squared_error: 0.0031\n",
      "Epoch 41/50\n",
      "10/10 - 0s - loss: 9.0220e-06 - mean_squared_error: 9.0220e-06 - root_mean_squared_error: 0.0030\n",
      "Epoch 42/50\n",
      "10/10 - 0s - loss: 9.0249e-06 - mean_squared_error: 9.0249e-06 - root_mean_squared_error: 0.0030\n",
      "Epoch 43/50\n",
      "10/10 - 0s - loss: 1.0415e-05 - mean_squared_error: 1.0415e-05 - root_mean_squared_error: 0.0032\n",
      "Epoch 44/50\n",
      "10/10 - 0s - loss: 9.9649e-06 - mean_squared_error: 9.9649e-06 - root_mean_squared_error: 0.0032\n",
      "Epoch 45/50\n",
      "10/10 - 0s - loss: 1.0308e-05 - mean_squared_error: 1.0308e-05 - root_mean_squared_error: 0.0032\n",
      "Epoch 46/50\n",
      "10/10 - 0s - loss: 1.0820e-05 - mean_squared_error: 1.0820e-05 - root_mean_squared_error: 0.0033\n",
      "Epoch 47/50\n",
      "10/10 - 0s - loss: 9.9315e-06 - mean_squared_error: 9.9315e-06 - root_mean_squared_error: 0.0032\n",
      "Epoch 48/50\n",
      "10/10 - 0s - loss: 1.0162e-05 - mean_squared_error: 1.0162e-05 - root_mean_squared_error: 0.0032\n",
      "Epoch 49/50\n",
      "10/10 - 0s - loss: 1.2413e-05 - mean_squared_error: 1.2413e-05 - root_mean_squared_error: 0.0035\n",
      "Epoch 50/50\n",
      "10/10 - 0s - loss: 1.2788e-05 - mean_squared_error: 1.2788e-05 - root_mean_squared_error: 0.0036\n"
     ]
    },
    {
     "data": {
      "text/plain": [
       "<keras.callbacks.History at 0x7ff2c9adf610>"
      ]
     },
     "execution_count": 9,
     "metadata": {},
     "output_type": "execute_result"
    }
   ],
   "source": [
    "best_model.fit(X,Y,batch_size = 100, epochs = 50, verbose=2, shuffle=True)"
   ]
  },
  {
   "cell_type": "markdown",
   "metadata": {},
   "source": [
    "#### Part 4 : Evaluating and Saving the Network"
   ]
  },
  {
   "cell_type": "code",
   "execution_count": 10,
   "metadata": {},
   "outputs": [],
   "source": [
    "testing_data_df = pd.read_csv(\"sales_data_testing_scaled.csv\")\n",
    "\n",
    "X_TEST = testing_data_df.drop('total_earnings', axis=1).values\n",
    "Y_TEST = testing_data_df[['total_earnings']].values"
   ]
  },
  {
   "cell_type": "code",
   "execution_count": 12,
   "metadata": {},
   "outputs": [
    {
     "name": "stdout",
     "output_type": "stream",
     "text": [
      "13/13 - 0s - loss: 0.0011 - mean_squared_error: 0.0011 - root_mean_squared_error: 0.0327\n",
      "The mean squared error (MSE) for the test data set is: 0.0010661539854481816\n"
     ]
    }
   ],
   "source": [
    "test_error_rate = best_model.evaluate(X_TEST, Y_TEST, verbose=2)\n",
    "print(\"The mean squared error (MSE) for the test data set is: {}\".format(test_error_rate[0]))"
   ]
  },
  {
   "cell_type": "code",
   "execution_count": 13,
   "metadata": {},
   "outputs": [
    {
     "name": "stdout",
     "output_type": "stream",
     "text": [
      "Model saved to disk\n"
     ]
    }
   ],
   "source": [
    "best_model.save(\"trained_model_hpo.h5\")\n",
    "print(\"Model saved to disk\")"
   ]
  },
  {
   "cell_type": "code",
   "execution_count": 15,
   "metadata": {},
   "outputs": [
    {
     "name": "stdout",
     "output_type": "stream",
     "text": [
      "WARNING:tensorflow:Error in loading the saved optimizer state. As a result, your model is starting with a freshly initialized optimizer.\n",
      "13/13 - 0s - loss: 0.0015\n",
      "13/13 - 0s - loss: 0.0011 - mean_squared_error: 0.0011 - root_mean_squared_error: 0.0327\n",
      "The mean squared error (MSE) for the test data set is (No-HPO): 0.0014870389131829143\n",
      "The mean squared error (MSE) for the test data set is (HPO): 0.0010661539854481816\n"
     ]
    }
   ],
   "source": [
    "model = tf.keras.models.load_model(\"trained_model.h5\")\n",
    "hp_model = tf.keras.models.load_model(\"trained_model_hpo.h5\")\n",
    "\n",
    "test_error_rate = model.evaluate(X_TEST, Y_TEST, verbose=2)\n",
    "hp_test_error_rate = (hp_model.evaluate(X_TEST, Y_TEST, verbose=2))[0]\n",
    "print(\"The mean squared error (MSE) for the test data set is (No-HPO): {}\".format(test_error_rate))\n",
    "print(\"The mean squared error (MSE) for the test data set is (HPO): {}\".format(hp_test_error_rate))"
   ]
  },
  {
   "cell_type": "markdown",
   "metadata": {},
   "source": [
    "#### Part 5: Making Predictions"
   ]
  },
  {
   "cell_type": "code",
   "execution_count": 19,
   "metadata": {},
   "outputs": [
    {
     "name": "stdout",
     "output_type": "stream",
     "text": [
      "Earnings Prediction for Proposed Product - (Non-HP): $168958.729593277  |  (HP): $168679.31187504533\n"
     ]
    }
   ],
   "source": [
    "X_PRED = pd.read_csv(\"proposed_new_product.csv\").values\n",
    "pred = model.predict(X_PRED)\n",
    "pred_hp = hp_model.predict(X_PRED)\n",
    "\n",
    "# Scale\n",
    "pred = pred[0][0]\n",
    "pred_hp = pred_hp[0][0]\n",
    "pred = (pred + scaler.min_[8]) / scaler.scale_[8]\n",
    "pred_hp = (pred_hp + scaler.min_[8]) / scaler.scale_[8]\n",
    "\n",
    "print(\"Earnings Prediction for Proposed Product - (Non-HP): ${}  |  (HP): ${}\".format(pred, pred_hp))"
   ]
  }
 ],
 "metadata": {
  "interpreter": {
   "hash": "393fcab780e87c738780ceeb980b543ebdfd57cc9b80e4ffd28fcf595b13429f"
  },
  "kernelspec": {
   "display_name": "Python 3.8.10 ('CSUG')",
   "language": "python",
   "name": "python3"
  },
  "language_info": {
   "codemirror_mode": {
    "name": "ipython",
    "version": 3
   },
   "file_extension": ".py",
   "mimetype": "text/x-python",
   "name": "python",
   "nbconvert_exporter": "python",
   "pygments_lexer": "ipython3",
   "version": "3.8.10"
  },
  "orig_nbformat": 4
 },
 "nbformat": 4,
 "nbformat_minor": 2
}
