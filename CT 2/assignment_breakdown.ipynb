{
 "cells": [
  {
   "cell_type": "markdown",
   "metadata": {},
   "source": [
    "## CSC 580: Critical Thinking 2 - Predicting Future Sales\n",
    "In a nutshell, *sales_data_test.csv* and *sales_data_test.csv* contain data that will be used to train a neural network to predict how much money can be expected form the future sale of new video games. The .csv files were retrieved from one of [Toni Esteves repos](https://github.com/toniesteves/adam-geitgey-building-deep-learning-keras/tree/master/03). \n",
    "\n",
    "The columns in the data are defined as follows:\n",
    "- critic_rating : an average rating out of five stars\n",
    "- is_action : tells us if this was an action game\n",
    "- is_exclusive_to_us : tells us if we have an exclusiv deal to sell this game\n",
    "- is_portable : tells us if this game runs on a handheld video game system\n",
    "- is_role_playing : tells us if this is a role-playing game\n",
    "- is_sequel : tells us if this game was a sequel to an earlier video game and part of an ongoing series\n",
    "- is_sports : tells us if this was a sports game\n",
    "- suitable_for_kids : tells us if this game is appropriate for all ages\n",
    "- total_earning : tells us how much money the store has earned in total from selling the game to all customers\n",
    "- unit_price : tells us for how much a single copy of the game retailed"
   ]
  },
  {
   "cell_type": "code",
   "execution_count": 1,
   "metadata": {},
   "outputs": [],
   "source": [
    "import pandas as pd\n",
    "from sklearn.preprocessing import MinMaxScaler\n",
    "import tensorflow as tf\n",
    "import numpy as np"
   ]
  },
  {
   "cell_type": "markdown",
   "metadata": {},
   "source": [
    "#### Step 1: Prepare the Dataset\n",
    "The numerical data needs to be scaled for better network training"
   ]
  },
  {
   "cell_type": "code",
   "execution_count": 5,
   "metadata": {},
   "outputs": [
    {
     "name": "stdout",
     "output_type": "stream",
     "text": [
      "Note: total_earnings values were scaled by multiplying by 0.0000042367 and adding -0.153415\n"
     ]
    }
   ],
   "source": [
    "# Load the training and testing data\n",
    "train_data = pd.read_csv(\"sales_data_training.csv\")\n",
    "test_data = pd.read_csv(\"sales_data_test.csv\")\n",
    "\n",
    "# Scale the data using sklearn\n",
    "scaler = MinMaxScaler(feature_range=(0,1))\n",
    "train_data_scaled = scaler.fit_transform(train_data)\n",
    "test_data_scaled = scaler.fit_transform(test_data)\n",
    "\n",
    "# Print out adjustment\n",
    "print(\"Note: total_earnings values were scaled by multiplying by {:.10f} and adding {:.6f}\".format(scaler.scale_[8], scaler.min_[8]))\n",
    "\n",
    "# Create new DataFrames\n",
    "df_train_scaled = pd.DataFrame(train_data_scaled, columns=train_data.columns.values)\n",
    "df_test_scaled = pd.DataFrame(test_data_scaled, columns=test_data.columns.values)\n",
    "\n",
    "# Save scaled data\n",
    "df_train_scaled.to_csv(\"sales_data_training_scaled.csv\", index=False)\n",
    "df_test_scaled.to_csv(\"sales_data_testing_scaled.csv\", index=False)\n"
   ]
  }
 ],
 "metadata": {
  "interpreter": {
   "hash": "393fcab780e87c738780ceeb980b543ebdfd57cc9b80e4ffd28fcf595b13429f"
  },
  "kernelspec": {
   "display_name": "Python 3.8.10 ('CSUG')",
   "language": "python",
   "name": "python3"
  },
  "language_info": {
   "codemirror_mode": {
    "name": "ipython",
    "version": 3
   },
   "file_extension": ".py",
   "mimetype": "text/x-python",
   "name": "python",
   "nbconvert_exporter": "python",
   "pygments_lexer": "ipython3",
   "version": "3.8.10"
  },
  "orig_nbformat": 4
 },
 "nbformat": 4,
 "nbformat_minor": 2
}
