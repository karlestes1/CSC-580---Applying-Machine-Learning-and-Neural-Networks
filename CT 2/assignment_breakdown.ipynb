{
 "cells": [
  {
   "cell_type": "markdown",
   "metadata": {},
   "source": [
    "## CSC 580: Critical Thinking 2 - Predicting Future Sales\n",
    "In a nutshell, *sales_data_test.csv* and *sales_data_test.csv* contain data that will be used to train a neural network to predict how much money can be expected form the future sale of new video games. The .csv files were retrieved from one of [Toni Esteves repos](https://github.com/toniesteves/adam-geitgey-building-deep-learning-keras/tree/master/03). \n",
    "\n",
    "The columns in the data are defined as follows:\n",
    "- critic_rating : an average rating out of five stars\n",
    "- is_action : tells us if this was an action game\n",
    "- is_exclusive_to_us : tells us if we have an exclusiv deal to sell this game\n",
    "- is_portable : tells us if this game runs on a handheld video game system\n",
    "- is_role_playing : tells us if this is a role-playing game\n",
    "- is_sequel : tells us if this game was a sequel to an earlier video game and part of an ongoing series\n",
    "- is_sports : tells us if this was a sports game\n",
    "- suitable_for_kids : tells us if this game is appropriate for all ages\n",
    "- total_earning : tells us how much money the store has earned in total from selling the game to all customers\n",
    "- unit_price : tells us for how much a single copy of the game retailed"
   ]
  },
  {
   "cell_type": "code",
   "execution_count": 1,
   "metadata": {},
   "outputs": [],
   "source": [
    "import pandas as pd\n",
    "from sklearn.preprocessing import MinMaxScaler\n",
    "import numpy as np\n",
    "from keras.models import Sequential\n",
    "from keras import layers \n",
    "from keras import activations\n",
    "from keras import optimizers\n",
    "from keras import losses"
   ]
  },
  {
   "cell_type": "markdown",
   "metadata": {},
   "source": [
    "#### Step 1: Prepare the Dataset\n",
    "The numerical data needs to be scaled for better network training"
   ]
  },
  {
   "cell_type": "code",
   "execution_count": 5,
   "metadata": {},
   "outputs": [
    {
     "name": "stdout",
     "output_type": "stream",
     "text": [
      "Note: total_earnings values were scaled by multiplying by 0.0000042367 and adding -0.153415\n"
     ]
    }
   ],
   "source": [
    "# Load the training and testing data\n",
    "train_data = pd.read_csv(\"sales_data_training.csv\", dtype=float)\n",
    "test_data = pd.read_csv(\"sales_data_test.csv\", dtype = float)\n",
    "\n",
    "# Scale the data using sklearn\n",
    "scaler = MinMaxScaler(feature_range=(0,1))\n",
    "train_data_scaled = scaler.fit_transform(train_data)\n",
    "test_data_scaled = scaler.fit_transform(test_data)\n",
    "\n",
    "# Print out adjustment\n",
    "print(\"Note: total_earnings values were scaled by multiplying by {:.10f} and adding {:.6f}\".format(scaler.scale_[8], scaler.min_[8]))\n",
    "\n",
    "# Create new DataFrames\n",
    "df_train_scaled = pd.DataFrame(train_data_scaled, columns=train_data.columns.values)\n",
    "df_test_scaled = pd.DataFrame(test_data_scaled, columns=test_data.columns.values)\n",
    "\n",
    "# Save scaled data\n",
    "df_train_scaled.to_csv(\"sales_data_training_scaled.csv\", index=False)\n",
    "df_test_scaled.to_csv(\"sales_data_testing_scaled.csv\", index=False)\n"
   ]
  },
  {
   "cell_type": "markdown",
   "metadata": {},
   "source": [
    "#### Part 2: Coding the Network"
   ]
  },
  {
   "cell_type": "code",
   "execution_count": 2,
   "metadata": {},
   "outputs": [],
   "source": [
    "# Load the training data\n",
    "training_data_df = pd.read_csv(\"sales_data_training_scaled.csv\")\n",
    "\n",
    "X = training_data_df.drop('total_earnings', axis=1).values\n",
    "Y = training_data_df[['total_earnings']].values"
   ]
  },
  {
   "cell_type": "code",
   "execution_count": 3,
   "metadata": {},
   "outputs": [
    {
     "name": "stderr",
     "output_type": "stream",
     "text": [
      "2022-02-21 13:38:07.705544: I tensorflow/core/platform/cpu_feature_guard.cc:142] This TensorFlow binary is optimized with oneAPI Deep Neural Network Library (oneDNN) to use the following CPU instructions in performance-critical operations:  AVX2 AVX512F FMA\n",
      "To enable them in other operations, rebuild TensorFlow with the appropriate compiler flags.\n"
     ]
    }
   ],
   "source": [
    "# Model definition\n",
    "model = Sequential(\n",
    "    [\n",
    "        layers.Input((9,)),\n",
    "        layers.Dense(50, activation=activations.relu,),\n",
    "        layers.Dense(100, activation=activations.relu),\n",
    "        layers.Dense(50, activation=activations.relu),\n",
    "        layers.Dense(1, activation=activations.linear)\n",
    "    ]\n",
    ")\n",
    "\n",
    "model.compile('adam', losses.mean_squared_error)"
   ]
  },
  {
   "cell_type": "markdown",
   "metadata": {},
   "source": [
    "#### Part 3: Training the Network"
   ]
  },
  {
   "cell_type": "code",
   "execution_count": 4,
   "metadata": {},
   "outputs": [
    {
     "name": "stderr",
     "output_type": "stream",
     "text": [
      "2022-02-21 13:38:10.824220: I tensorflow/compiler/mlir/mlir_graph_optimization_pass.cc:185] None of the MLIR Optimization Passes are enabled (registered 2)\n"
     ]
    },
    {
     "name": "stdout",
     "output_type": "stream",
     "text": [
      "Epoch 1/50\n",
      "10/10 - 0s - loss: 0.0388\n",
      "Epoch 2/50\n",
      "10/10 - 0s - loss: 0.0145\n",
      "Epoch 3/50\n",
      "10/10 - 0s - loss: 0.0065\n",
      "Epoch 4/50\n",
      "10/10 - 0s - loss: 0.0032\n",
      "Epoch 5/50\n",
      "10/10 - 0s - loss: 0.0018\n",
      "Epoch 6/50\n",
      "10/10 - 0s - loss: 0.0013\n",
      "Epoch 7/50\n",
      "10/10 - 0s - loss: 9.2598e-04\n",
      "Epoch 8/50\n",
      "10/10 - 0s - loss: 7.0474e-04\n",
      "Epoch 9/50\n",
      "10/10 - 0s - loss: 5.6132e-04\n",
      "Epoch 10/50\n",
      "10/10 - 0s - loss: 4.2288e-04\n",
      "Epoch 11/50\n",
      "10/10 - 0s - loss: 3.4056e-04\n",
      "Epoch 12/50\n",
      "10/10 - 0s - loss: 2.7659e-04\n",
      "Epoch 13/50\n",
      "10/10 - 0s - loss: 2.3773e-04\n",
      "Epoch 14/50\n",
      "10/10 - 0s - loss: 2.0718e-04\n",
      "Epoch 15/50\n",
      "10/10 - 0s - loss: 1.6413e-04\n",
      "Epoch 16/50\n",
      "10/10 - 0s - loss: 1.3969e-04\n",
      "Epoch 17/50\n",
      "10/10 - 0s - loss: 1.2719e-04\n",
      "Epoch 18/50\n",
      "10/10 - 0s - loss: 1.1236e-04\n",
      "Epoch 19/50\n",
      "10/10 - 0s - loss: 9.7266e-05\n",
      "Epoch 20/50\n",
      "10/10 - 0s - loss: 9.2602e-05\n",
      "Epoch 21/50\n",
      "10/10 - 0s - loss: 8.3568e-05\n",
      "Epoch 22/50\n",
      "10/10 - 0s - loss: 7.7755e-05\n",
      "Epoch 23/50\n",
      "10/10 - 0s - loss: 7.8229e-05\n",
      "Epoch 24/50\n",
      "10/10 - 0s - loss: 7.2086e-05\n",
      "Epoch 25/50\n",
      "10/10 - 0s - loss: 6.1909e-05\n",
      "Epoch 26/50\n",
      "10/10 - 0s - loss: 6.1131e-05\n",
      "Epoch 27/50\n",
      "10/10 - 0s - loss: 5.7510e-05\n",
      "Epoch 28/50\n",
      "10/10 - 0s - loss: 5.2080e-05\n",
      "Epoch 29/50\n",
      "10/10 - 0s - loss: 5.2710e-05\n",
      "Epoch 30/50\n",
      "10/10 - 0s - loss: 4.4343e-05\n",
      "Epoch 31/50\n",
      "10/10 - 0s - loss: 4.2012e-05\n",
      "Epoch 32/50\n",
      "10/10 - 0s - loss: 4.0416e-05\n",
      "Epoch 33/50\n",
      "10/10 - 0s - loss: 4.0852e-05\n",
      "Epoch 34/50\n",
      "10/10 - 0s - loss: 4.0562e-05\n",
      "Epoch 35/50\n",
      "10/10 - 0s - loss: 4.1659e-05\n",
      "Epoch 36/50\n",
      "10/10 - 0s - loss: 3.6351e-05\n",
      "Epoch 37/50\n",
      "10/10 - 0s - loss: 3.5183e-05\n",
      "Epoch 38/50\n",
      "10/10 - 0s - loss: 3.4974e-05\n",
      "Epoch 39/50\n",
      "10/10 - 0s - loss: 3.1193e-05\n",
      "Epoch 40/50\n",
      "10/10 - 0s - loss: 3.1130e-05\n",
      "Epoch 41/50\n",
      "10/10 - 0s - loss: 2.9830e-05\n",
      "Epoch 42/50\n",
      "10/10 - 0s - loss: 2.7013e-05\n",
      "Epoch 43/50\n",
      "10/10 - 0s - loss: 2.7771e-05\n",
      "Epoch 44/50\n",
      "10/10 - 0s - loss: 2.7922e-05\n",
      "Epoch 45/50\n",
      "10/10 - 0s - loss: 2.9174e-05\n",
      "Epoch 46/50\n",
      "10/10 - 0s - loss: 2.5759e-05\n",
      "Epoch 47/50\n",
      "10/10 - 0s - loss: 2.4068e-05\n",
      "Epoch 48/50\n",
      "10/10 - 0s - loss: 2.4564e-05\n",
      "Epoch 49/50\n",
      "10/10 - 0s - loss: 2.2399e-05\n",
      "Epoch 50/50\n",
      "10/10 - 0s - loss: 2.2669e-05\n"
     ]
    },
    {
     "data": {
      "text/plain": [
       "<keras.callbacks.History at 0x7fcf99027f40>"
      ]
     },
     "execution_count": 4,
     "metadata": {},
     "output_type": "execute_result"
    }
   ],
   "source": [
    "model.fit(X,Y,batch_size = 100, epochs = 50, verbose=2, shuffle=True)"
   ]
  },
  {
   "cell_type": "markdown",
   "metadata": {},
   "source": [
    "#### Part 4 : Evaluating the Network"
   ]
  },
  {
   "cell_type": "code",
   "execution_count": 5,
   "metadata": {},
   "outputs": [],
   "source": [
    "testing_data_df = pd.read_csv(\"sales_data_testing_scaled.csv\")\n",
    "\n",
    "X_TEST = testing_data_df.drop('total_earnings', axis=1).values\n",
    "Y_TEST = testing_data_df[['total_earnings']].values"
   ]
  },
  {
   "cell_type": "code",
   "execution_count": 6,
   "metadata": {},
   "outputs": [
    {
     "name": "stdout",
     "output_type": "stream",
     "text": [
      "13/13 - 0s - loss: 0.0012\n",
      "The mean squared error (MSE) for the test data set is: 0.001168126822449267\n"
     ]
    }
   ],
   "source": [
    "test_error_rate = model.evaluate(X_TEST, Y_TEST, verbose=2)\n",
    "print(\"The mean squared error (MSE) for the test data set is: {}\".format(test_error_rate))"
   ]
  }
 ],
 "metadata": {
  "interpreter": {
   "hash": "393fcab780e87c738780ceeb980b543ebdfd57cc9b80e4ffd28fcf595b13429f"
  },
  "kernelspec": {
   "display_name": "Python 3.8.10 ('CSUG')",
   "language": "python",
   "name": "python3"
  },
  "language_info": {
   "codemirror_mode": {
    "name": "ipython",
    "version": 3
   },
   "file_extension": ".py",
   "mimetype": "text/x-python",
   "name": "python",
   "nbconvert_exporter": "python",
   "pygments_lexer": "ipython3",
   "version": "3.8.10"
  },
  "orig_nbformat": 4
 },
 "nbformat": 4,
 "nbformat_minor": 2
}
