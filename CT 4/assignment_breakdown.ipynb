{
 "cells": [
  {
   "cell_type": "markdown",
   "metadata": {},
   "source": [
    "## CSC 580: Critical Thinking 4 - Toxicology Testing\n",
    "TODO - Description"
   ]
  },
  {
   "cell_type": "code",
   "execution_count": 2,
   "metadata": {},
   "outputs": [],
   "source": [
    "import numpy as np\n",
    "import tensorflow as tf\n",
    "import matplotlib.pyplot as plt\n",
    "from deepchem import deepchem as dc\n",
    "from sklearn.metrics import accuracy_score\n",
    "\n",
    "# Seeds are set via assignment parameters\n",
    "np.random.seed(456)\n",
    "tf.random.set_seed(456)\n"
   ]
  },
  {
   "cell_type": "markdown",
   "metadata": {},
   "source": [
    "#### Preparing the Data\n",
    "Using the [Tox21 Dataset](https://tox21.gov/resources/)"
   ]
  },
  {
   "cell_type": "code",
   "execution_count": 4,
   "metadata": {},
   "outputs": [
    {
     "name": "stderr",
     "output_type": "stream",
     "text": [
      "RDKit WARNING: [13:18:15] WARNING: not removing hydrogen atom without neighbors\n",
      "[13:18:15] WARNING: not removing hydrogen atom without neighbors\n",
      "RDKit WARNING: [13:19:13] WARNING: not removing hydrogen atom without neighbors\n",
      "[13:19:13] WARNING: not removing hydrogen atom without neighbors\n"
     ]
    }
   ],
   "source": [
    "_,(train, valid, test),_ = dc.molnet.load_tox21()\n",
    "\n",
    "train_X, train_y, train_w = train.X, train.y, train.w\n",
    "valid_x, valid_y, valid_w = valid.X, valid.y, valid.w\n",
    "test_X, test_y, test_w = test.X, test.y, test.w"
   ]
  },
  {
   "cell_type": "code",
   "execution_count": 5,
   "metadata": {},
   "outputs": [],
   "source": [
    "train_y = train_y[:,0]\n",
    "valid_y = valid_y[:,0]\n",
    "test_y = test_y[:,0]\n",
    "\n",
    "train_w = train_w[:,0]\n",
    "valid_w = valid_w[:,0]\n",
    "test_w = test_w[:,0]"
   ]
  },
  {
   "cell_type": "markdown",
   "metadata": {},
   "source": [
    "#### Defining Tensorflow Graph"
   ]
  },
  {
   "cell_type": "code",
   "execution_count": null,
   "metadata": {},
   "outputs": [],
   "source": [
    "d = 1024\n",
    "n_hidden = 50\n",
    "learning_rate = .001\n",
    "n_epochs = 10\n",
    "batch_size = 100\n",
    "\n",
    "with tf.name_scope(\"placeholders\"):\n",
    "    x = tf.placeholder(tf.float32, (None, d))\n",
    "    y = tf.placeholder(tf.float32, (None,))\n",
    "\n",
    "with tf.name_scope(\"hidden-layer\"):\n",
    "    W = tf.Variable(tf.random_normal((d, n_hidden)))\n",
    "    b = tf.Variable(tf.random_normal((n_hidden,)))\n",
    "    x_hidden = tf.nn.relu(tf.matmul(x,W) + b)\n",
    "\n",
    "with tf.name_scope(\"output\"):\n",
    "    W = tf.Variable(tf.random_normal((n_hidden, 1)))\n",
    "    b = tf.Variable(tf.random_normal((1,)))\n",
    "    y_logit = tf.matmul(x_hidden,W) + b\n",
    "\n",
    "    # The sigmoid gives the class probability of 1\n",
    "    y_one_prob = tf.sigmoid(y_logit)\n",
    "\n",
    "    # Rounding P(y=1) will give the correct prediction\n",
    "    y_pred = tf.round(y_one_prob)\n",
    "\n",
    "with tf.name_scope(\"loss\"):\n",
    "    # Compute the cross-entropy term for each datapoint\n",
    "    y_expand = tf.expand_dims(y, 1)\n",
    "    entropy = tf.nn.sigmoid_cross_entropy_with_logits(logits=y_logit, labels=y_expand)\n",
    "\n",
    "    # Sum all contributions\n",
    "    l = tf.reduce_sum(entropy)\n",
    "\n",
    "with tf.name_scope(\"optim\"):\n",
    "    train_op = tf.train.AdamOptimizer(learning_rate).minimize(l)\n",
    "\n",
    "with tf.name_scope(\"summaries\"):\n",
    "    tf.summary.scalar(\"loss\", l)\n",
    "    merged = tf.summary.merge_all()"
   ]
  }
 ],
 "metadata": {
  "interpreter": {
   "hash": "393fcab780e87c738780ceeb980b543ebdfd57cc9b80e4ffd28fcf595b13429f"
  },
  "kernelspec": {
   "display_name": "Python 3.8.10 ('CSUG')",
   "language": "python",
   "name": "python3"
  },
  "language_info": {
   "codemirror_mode": {
    "name": "ipython",
    "version": 3
   },
   "file_extension": ".py",
   "mimetype": "text/x-python",
   "name": "python",
   "nbconvert_exporter": "python",
   "pygments_lexer": "ipython3",
   "version": "3.8.10"
  },
  "orig_nbformat": 4
 },
 "nbformat": 4,
 "nbformat_minor": 2
}
