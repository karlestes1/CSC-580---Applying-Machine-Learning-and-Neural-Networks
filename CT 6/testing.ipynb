{
 "cells": [
  {
   "cell_type": "markdown",
   "metadata": {},
   "source": [
    "## Critical Thinking 6\n",
    "Testing file for CT 6"
   ]
  },
  {
   "cell_type": "code",
   "execution_count": 2,
   "metadata": {},
   "outputs": [],
   "source": [
    "import tensorflow as tf\n",
    "import numpy as np\n",
    "import keras_tuner as kt\n",
    "from tensorflow import keras\n",
    "from keras import models, layers\n",
    "\n",
    "# print(tf.config.list_physical_devices())\n",
    "# devices = tf.config.list_physical_devices()\n",
    "# tf.config.set_visible_devices(devices[0], 'CPU')\n"
   ]
  },
  {
   "cell_type": "code",
   "execution_count": 3,
   "metadata": {},
   "outputs": [],
   "source": [
    "# Download the CIFAR10 Dataset\n",
    "(train_images, train_labels), (test_images, test_labels) = keras.datasets.cifar10.load_data()\n",
    "\n",
    "# Normalize the data\n",
    "train_images, test_images = train_images/255.0, test_images/255.0"
   ]
  },
  {
   "cell_type": "markdown",
   "metadata": {},
   "source": [
    "#### CNN Models"
   ]
  },
  {
   "cell_type": "code",
   "execution_count": 4,
   "metadata": {},
   "outputs": [],
   "source": [
    "# Model from Tensorflow Tutorial\n",
    "def build_model_tf():\n",
    "    model = models.Sequential()\n",
    "    model.add(layers.Conv2D(32, (3,3), activation='relu', input_shape=(32, 32, 3)))\n",
    "    model.add(layers.MaxPooling2D((2,2)))\n",
    "    model.add(layers.Conv2D(64, (3,3), activation='relu'))\n",
    "    model.add(layers.MaxPooling2D((2,2)))\n",
    "    model.add(layers.Conv2D(64, (3,3), activation='relu'))\n",
    "    model.add(layers.Flatten())\n",
    "    model.add(layers.Dense(64, activation='relu'))\n",
    "    model.add(layers.Dense(10)) # Ten total output classes\n",
    "\n",
    "    # Compile model\n",
    "    model.compile(optimizer='adam', loss=keras.losses.SparseCategoricalCrossentropy(from_logits=True), metrics=['accuracy'])\n",
    "    return model"
   ]
  },
  {
   "cell_type": "code",
   "execution_count": 5,
   "metadata": {},
   "outputs": [
    {
     "name": "stdout",
     "output_type": "stream",
     "text": [
      "Model: \"sequential\"\n",
      "_________________________________________________________________\n",
      " Layer (type)                Output Shape              Param #   \n",
      "=================================================================\n",
      " conv2d (Conv2D)             (None, 30, 30, 32)        896       \n",
      "                                                                 \n",
      " max_pooling2d (MaxPooling2D  (None, 15, 15, 32)       0         \n",
      " )                                                               \n",
      "                                                                 \n",
      " conv2d_1 (Conv2D)           (None, 13, 13, 64)        18496     \n",
      "                                                                 \n",
      " max_pooling2d_1 (MaxPooling  (None, 6, 6, 64)         0         \n",
      " 2D)                                                             \n",
      "                                                                 \n",
      " conv2d_2 (Conv2D)           (None, 4, 4, 64)          36928     \n",
      "                                                                 \n",
      " flatten (Flatten)           (None, 1024)              0         \n",
      "                                                                 \n",
      " dense (Dense)               (None, 64)                65600     \n",
      "                                                                 \n",
      " dense_1 (Dense)             (None, 10)                650       \n",
      "                                                                 \n",
      "=================================================================\n",
      "Total params: 122,570\n",
      "Trainable params: 122,570\n",
      "Non-trainable params: 0\n",
      "_________________________________________________________________\n",
      "None\n"
     ]
    },
    {
     "name": "stderr",
     "output_type": "stream",
     "text": [
      "2022-03-19 19:36:17.501063: I tensorflow/core/platform/cpu_feature_guard.cc:151] This TensorFlow binary is optimized with oneAPI Deep Neural Network Library (oneDNN) to use the following CPU instructions in performance-critical operations:  AVX2 FMA\n",
      "To enable them in other operations, rebuild TensorFlow with the appropriate compiler flags.\n"
     ]
    }
   ],
   "source": [
    "model = build_model_tf()\n",
    "print(model.summary())"
   ]
  },
  {
   "cell_type": "code",
   "execution_count": 6,
   "metadata": {},
   "outputs": [],
   "source": [
    "# Tuned model with pooling\n",
    "def build_model_pool(hp):\n",
    "    \n",
    "    # Tune the number of conv layers\n",
    "    model = models.Sequential()\n",
    "    model.add(layers.Input((32,32,3)))\n",
    "\n",
    "    for i in range(hp.Int(\"num_conv_layers\", 1, 3)):\n",
    "        \n",
    "        # Add Conv Layer\n",
    "        model.add(\n",
    "            layers.Conv2D(\n",
    "                # Tune number of units\n",
    "                hp.Int(f\"conv_units_{i}\", min_value=32, max_value=128,step=32),\n",
    "                # Tune kernel size\n",
    "                kernel_size=hp.Choice(f\"kernel_size_{i}\", [3,5]),\n",
    "                # Tune strides\n",
    "                strides=hp.Int(f\"strides_{i}\", min_value=1, max_value=3),\n",
    "                activation='relu'\n",
    "            ))\n",
    "\n",
    "        # Add Pooling Layer\n",
    "        model.add(\n",
    "            layers.MaxPooling2D((2,2))\n",
    "        )\n",
    "\n",
    "    model.add(layers.Flatten())\n",
    "\n",
    "    if(hp.Boolean(\"dropout\")):\n",
    "        model.add(layers.Dropout(rate=0.5))\n",
    "\n",
    "    # Tune number of conv layers\n",
    "    for i in range(hp.Int(\"num_dense_layers\", 1, 3)):\n",
    "        model.add(\n",
    "            layers.Dense(units=hp.Int(f\"dense_units_{i}\", min_value=32, max_value=256, step=32), activation='relu')\n",
    "        )\n",
    "\n",
    "    model.add(layers.Dense(10))\n",
    "\n",
    "    model.compile(optimizer='adam', loss=keras.losses.SparseCategoricalCrossentropy(from_logits=True), metrics=['accuracy'])\n",
    "    return model"
   ]
  },
  {
   "cell_type": "code",
   "execution_count": 7,
   "metadata": {},
   "outputs": [],
   "source": [
    "# Tuned model w/o pooling\n",
    "def build_model_no_pool(hp):\n",
    "    \n",
    "    # Tune the number of conv layers\n",
    "    model = models.Sequential()\n",
    "    model.add(layers.Input((32,32,3)))\n",
    "\n",
    "    for i in range(hp.Int(\"num_conv_layers\", 1, 3)):\n",
    "        \n",
    "        # Add Conv Layer\n",
    "        model.add(\n",
    "            layers.Conv2D(\n",
    "                # Tune number of units\n",
    "                hp.Int(f\"conv_units_{i}\", min_value=32, max_value=128,step=32),\n",
    "                # Tune kernel size\n",
    "                kernel_size=hp.Choice(f\"kernel_size_{i}\", [3,5]),\n",
    "                # Tune strides\n",
    "                strides=hp.Int(f\"strides_{i}\", min_value=1, max_value=3),\n",
    "                activation='relu'\n",
    "            ))\n",
    "\n",
    "    model.add(layers.Flatten())\n",
    "\n",
    "    if(hp.Boolean(\"dropout\")):\n",
    "        model.add(layers.Dropout(rate=0.5))\n",
    "\n",
    "    # Tune number of conv layers\n",
    "    for i in range(hp.Int(\"num_dense_layers\", 1, 3)):\n",
    "        model.add(\n",
    "            layers.Dense(units=hp.Int(f\"dense_units_{i}\", min_value=32, max_value=256, step=32), activation='relu')\n",
    "        )\n",
    "\n",
    "    model.add(layers.Dense(10))\n",
    "\n",
    "    model.compile(optimizer='adam', loss=keras.losses.SparseCategoricalCrossentropy(from_logits=True), metrics=['accuracy'])\n",
    "    return model"
   ]
  },
  {
   "cell_type": "code",
   "execution_count": 8,
   "metadata": {},
   "outputs": [],
   "source": [
    "# Tuned dilated model\n",
    "def build_model_dilation(hp):\n",
    "    \n",
    "    # Tune the number of conv layers\n",
    "    model = models.Sequential()\n",
    "    model.add(layers.Input((32,32,3)))\n",
    "\n",
    "    for i in range(hp.Int(\"num_conv_layers\", 1, 3)):\n",
    "        \n",
    "        # Add Conv Layer\n",
    "        model.add(\n",
    "            layers.Conv2D(\n",
    "                # Tune number of units\n",
    "                hp.Int(f\"conv_units_{i}\", min_value=32, max_value=128,step=32),\n",
    "                # Tune kernel size\n",
    "                kernel_size=hp.Choice(f\"kernel_size_{i}\", [3,5]),\n",
    "                # Tune strides\n",
    "                dilation_rate=hp.Int(f\"dilation_{i}\", min_value=1, max_value=3),\n",
    "                activation='relu'\n",
    "            ))\n",
    "\n",
    "            # Add Pooling Layer\n",
    "        model.add(\n",
    "            layers.MaxPooling2D((2,2))\n",
    "        )\n",
    "\n",
    "    model.add(layers.Flatten())\n",
    "\n",
    "    if(hp.Boolean(\"dropout\")):\n",
    "        model.add(layers.Dropout(rate=0.5))\n",
    "\n",
    "    # Tune number of conv layers\n",
    "    for i in range(hp.Int(\"num_dense_layers\", 1, 3)):\n",
    "        model.add(\n",
    "            layers.Dense(units=hp.Int(f\"dense_units_{i}\", min_value=32, max_value=256, step=32), activation='relu')\n",
    "        )\n",
    "\n",
    "    model.add(layers.Dense(10))\n",
    "\n",
    "    model.compile(optimizer='adam', loss=keras.losses.SparseCategoricalCrossentropy(from_logits=True), metrics=['accuracy'])\n",
    "    return model"
   ]
  },
  {
   "cell_type": "code",
   "execution_count": 9,
   "metadata": {},
   "outputs": [],
   "source": [
    "def build_model_dilation_no_pool(hp):\n",
    "    \n",
    "    # Tune the number of conv layers\n",
    "    model = models.Sequential()\n",
    "    model.add(layers.Input((32,32,3)))\n",
    "\n",
    "    for i in range(hp.Int(\"num_conv_layers\", 1, 3)):\n",
    "        \n",
    "        # Add Conv Layer\n",
    "        model.add(\n",
    "            layers.Conv2D(\n",
    "                # Tune number of units\n",
    "                hp.Int(f\"conv_units_{i}\", min_value=32, max_value=128,step=32),\n",
    "                # Tune kernel size\n",
    "                kernel_size=hp.Choice(f\"kernel_size_{i}\", [3,5]),\n",
    "                # Tune strides\n",
    "                dilation_rate=hp.Int(f\"dilation_{i}\", min_value=1, max_value=3),\n",
    "                activation='relu'\n",
    "            ))\n",
    "\n",
    "    model.add(layers.Flatten())\n",
    "\n",
    "    if(hp.Boolean(\"dropout\")):\n",
    "        model.add(layers.Dropout(rate=0.5))\n",
    "\n",
    "    # Tune number of conv layers\n",
    "    for i in range(hp.Int(\"num_dense_layers\", 1, 3)):\n",
    "        model.add(\n",
    "            layers.Dense(units=hp.Int(f\"dense_units_{i}\", min_value=32, max_value=256, step=32), activation='relu')\n",
    "        )\n",
    "\n",
    "    model.add(layers.Dense(10))\n",
    "\n",
    "    model.compile(optimizer='adam', loss=keras.losses.SparseCategoricalCrossentropy(from_logits=True), metrics=['accuracy'])\n",
    "    return model"
   ]
  },
  {
   "cell_type": "markdown",
   "metadata": {},
   "source": [
    "### HPO"
   ]
  },
  {
   "cell_type": "code",
   "execution_count": 10,
   "metadata": {},
   "outputs": [
    {
     "name": "stdout",
     "output_type": "stream",
     "text": [
      "Search space summary\n",
      "Default search space size: 7\n",
      "num_conv_layers (Int)\n",
      "{'default': None, 'conditions': [], 'min_value': 1, 'max_value': 3, 'step': 1, 'sampling': None}\n",
      "conv_units_0 (Int)\n",
      "{'default': None, 'conditions': [], 'min_value': 32, 'max_value': 128, 'step': 32, 'sampling': None}\n",
      "kernel_size_0 (Choice)\n",
      "{'default': 3, 'conditions': [], 'values': [3, 5], 'ordered': True}\n",
      "dilation_0 (Int)\n",
      "{'default': None, 'conditions': [], 'min_value': 1, 'max_value': 3, 'step': 1, 'sampling': None}\n",
      "dropout (Boolean)\n",
      "{'default': False, 'conditions': []}\n",
      "num_dense_layers (Int)\n",
      "{'default': None, 'conditions': [], 'min_value': 1, 'max_value': 3, 'step': 1, 'sampling': None}\n",
      "dense_units_0 (Int)\n",
      "{'default': None, 'conditions': [], 'min_value': 32, 'max_value': 256, 'step': 32, 'sampling': None}\n",
      "None\n"
     ]
    }
   ],
   "source": [
    "MAX_TRIALS = 2\n",
    "EXECUTIONS_PER_TRIAL = 1\n",
    "\n",
    "tuner_conv_pool = kt.BayesianOptimization(\n",
    "    hypermodel=build_model_dilation,\n",
    "    objective='accuracy',\n",
    "    max_trials=MAX_TRIALS,\n",
    "    executions_per_trial= EXECUTIONS_PER_TRIAL,\n",
    "    overwrite=True,\n",
    "    directory=\"hpo/pooling\",\n",
    "    project_name=\"CIFAR10\"\n",
    ")\n",
    "\n",
    "print(tuner_conv_pool.search_space_summary())"
   ]
  },
  {
   "cell_type": "code",
   "execution_count": 18,
   "metadata": {},
   "outputs": [
    {
     "name": "stdout",
     "output_type": "stream",
     "text": [
      "\n",
      "Search: Running Trial #1\n",
      "\n",
      "Hyperparameter    |Value             |Best Value So Far \n",
      "num_conv_layers   |1                 |?                 \n",
      "conv_units_0      |64                |?                 \n",
      "kernel_size_0     |3                 |?                 \n",
      "dilation_0        |2                 |?                 \n",
      "dropout           |True              |?                 \n",
      "num_dense_layers  |1                 |?                 \n",
      "dense_units_0     |160               |?                 \n",
      "\n",
      "Epoch 1/2\n"
     ]
    }
   ],
   "source": [
    "tuner_conv_pool.search(train_images, train_labels, epochs=2, batch_size=250, verbose=1)"
   ]
  },
  {
   "cell_type": "code",
   "execution_count": 11,
   "metadata": {},
   "outputs": [],
   "source": [
    "best = tuner_conv_pool.get_best_models(1)"
   ]
  }
 ],
 "metadata": {
  "interpreter": {
   "hash": "393fcab780e87c738780ceeb980b543ebdfd57cc9b80e4ffd28fcf595b13429f"
  },
  "kernelspec": {
   "display_name": "Python 3.8.10 ('CSUG')",
   "language": "python",
   "name": "python3"
  },
  "language_info": {
   "codemirror_mode": {
    "name": "ipython",
    "version": 3
   },
   "file_extension": ".py",
   "mimetype": "text/x-python",
   "name": "python",
   "nbconvert_exporter": "python",
   "pygments_lexer": "ipython3",
   "version": "3.8.10"
  },
  "orig_nbformat": 4
 },
 "nbformat": 4,
 "nbformat_minor": 2
}
